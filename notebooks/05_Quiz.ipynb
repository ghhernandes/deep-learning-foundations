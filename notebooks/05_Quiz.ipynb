{
 "cells": [
  {
   "cell_type": "markdown",
   "metadata": {},
   "source": [
    "# Questions (01-04 notebooks)"
   ]
  },
  {
   "cell_type": "markdown",
   "metadata": {},
   "source": [
    "## 1. Write a Python Code to implement a single neuron."
   ]
  },
  {
   "cell_type": "code",
   "execution_count": 184,
   "metadata": {},
   "outputs": [
    {
     "data": {
      "text/plain": [
       "tensor([[-0.4289]])"
      ]
     },
     "execution_count": 184,
     "metadata": {},
     "output_type": "execute_result"
    }
   ],
   "source": [
    "import torch\n",
    "\n",
    "x = torch.randn(1, 10)\n",
    "w = torch.randn(1, 10)\n",
    "b = torch.randn(1)\n",
    "\n",
    "neuron = x @ w.t() + b\n",
    "neuron"
   ]
  },
  {
   "cell_type": "markdown",
   "metadata": {},
   "source": [
    "## 2. Write the Python code to implement ReLU."
   ]
  },
  {
   "cell_type": "code",
   "execution_count": 166,
   "metadata": {},
   "outputs": [
    {
     "data": {
      "text/plain": [
       "(tensor([[1.5722, 0.0000, 0.0000, 0.5082, 0.0000, 0.4540, 0.0000, 0.0000, 0.2060,\n",
       "          2.1829]]),\n",
       " tensor([[ 1.5722, -0.5660, -0.4757,  0.5082, -1.2054,  0.4540, -0.0137, -0.0406,\n",
       "           0.2060,  2.1829]]))"
      ]
     },
     "execution_count": 166,
     "metadata": {},
     "output_type": "execute_result"
    }
   ],
   "source": [
    "def ReLU(x):\n",
    "    return x.clamp_min(0.)\n",
    "\n",
    "ReLU(x), x"
   ]
  },
  {
   "cell_type": "markdown",
   "metadata": {},
   "source": [
    "## 3. Write the Python code for a dense layer in terms of matrix multiplication."
   ]
  },
  {
   "cell_type": "code",
   "execution_count": 187,
   "metadata": {},
   "outputs": [
    {
     "data": {
      "text/plain": [
       "tensor([1.1361, 2.2802, 0.4048, 2.3598, 0.0000])"
      ]
     },
     "execution_count": 187,
     "metadata": {},
     "output_type": "execute_result"
    }
   ],
   "source": [
    "x = torch.randn(1, 10)\n",
    "w1 = torch.randn(5, 10)\n",
    "b1 = torch.randn(5)\n",
    "\n",
    "def linear(x, w, b):\n",
    "    return x @ w.t() + b\n",
    "\n",
    "layer1 = ReLU(linear(x, w1, b1))\n",
    "layer1"
   ]
  },
  {
   "cell_type": "markdown",
   "metadata": {},
   "source": [
    "## 4. Write the Python code for a dense layer in plain Python."
   ]
  },
  {
   "cell_type": "markdown",
   "metadata": {},
   "source": [
    "**Matrix multiplication:**\n",
    "\n",
    "$$c_{ij} = a_{i1}b_{1j} + a_{i2}b_{2j} +\\cdots + a_{in}b_{nj}= \\sum_{k=1}^n a_{ik}b_{kj}$$\n",
    "\n",
    "**ReLU**\n",
    "\n",
    "$$f(x) = x^+ = \\max(0, x)$$"
   ]
  },
  {
   "cell_type": "code",
   "execution_count": 188,
   "metadata": {},
   "outputs": [],
   "source": [
    "def ReLU(x):\n",
    "    r = torch.zeros(x.shape[1])\n",
    "    for i, e in enumerate(x.squeeze()):\n",
    "        r[i] = e.item() if e.item() >= 0 else 0.\n",
    "    return r\n",
    "\n",
    "def linear(x, w, b):\n",
    "    return matmul(x, w.t()) + b\n",
    "\n",
    "def matmul(a, b):\n",
    "    ar, ac = a.shape[0], a.shape[1]\n",
    "    br, bc = b.shape[0], b.shape[1]\n",
    "    c = torch.zeros(ar, bc)\n",
    "    assert ac==br  \n",
    "    for i in range(ar):\n",
    "        for j in range(bc):\n",
    "            for k in range(br):\n",
    "                c[i, j] += a[i, k] * b[k, j]\n",
    "    return c"
   ]
  },
  {
   "cell_type": "code",
   "execution_count": 189,
   "metadata": {},
   "outputs": [
    {
     "data": {
      "text/plain": [
       "tensor([1.1361, 2.2802, 0.4048, 2.3598, 0.0000])"
      ]
     },
     "execution_count": 189,
     "metadata": {},
     "output_type": "execute_result"
    }
   ],
   "source": [
    "layer1 = ReLU(linear(x, w1, b1))\n",
    "layer1"
   ]
  },
  {
   "cell_type": "code",
   "execution_count": null,
   "metadata": {},
   "outputs": [],
   "source": []
  }
 ],
 "metadata": {
  "kernelspec": {
   "display_name": "fastai",
   "language": "python",
   "name": "fastai"
  },
  "language_info": {
   "codemirror_mode": {
    "name": "ipython",
    "version": 3
   },
   "file_extension": ".py",
   "mimetype": "text/x-python",
   "name": "python",
   "nbconvert_exporter": "python",
   "pygments_lexer": "ipython3",
   "version": "3.7.9"
  }
 },
 "nbformat": 4,
 "nbformat_minor": 4
}
